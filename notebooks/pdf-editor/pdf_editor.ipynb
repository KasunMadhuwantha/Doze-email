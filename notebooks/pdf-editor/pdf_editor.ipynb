{
 "cells": [
  {
   "cell_type": "code",
   "execution_count": 1,
   "metadata": {},
   "outputs": [],
   "source": [
    "from spire.pdf.common import *\n",
    "from spire.pdf import *"
   ]
  },
  {
   "cell_type": "code",
   "execution_count": 2,
   "metadata": {},
   "outputs": [],
   "source": [
    "# Create an object of the PdfDocument class\n",
    "doc = PdfDocument()\n",
    "# Load a PDF file\n",
    "doc.LoadFromFile(\"sample-invoice.pdf\")\n",
    "\n",
    "# Iterate through the pages in the document\n",
    "for i in range(doc.Pages.Count):\n",
    "    # Get the current page\n",
    "    page = doc.Pages[i]    \n",
    "    # Create an object of the PdfTextReplace class and pass the page to the constructor of the class as a parameter\n",
    "    replacer = PdfTextReplacer(page)\n",
    "    \n",
    "    # Replace All instances of a specific text with new text\n",
    "    replacer.ReplaceAllText(\"08th of April , 2024\", \"24th of April , 2024\")\n",
    "\n",
    "    # Replace All instances of a specific text with new text and set text color\n",
    "    #replacer.ReplaceAllText(\"Adobe Acrobat\", \"PDF Editor\", Color.get_Yellow())\n",
    "\n",
    "# Save the resulting file\n",
    "doc.SaveToFile(\"sample-invoice-edited.pdf\")\n",
    "\n",
    "doc.Close()"
   ]
  },
  {
   "cell_type": "code",
   "execution_count": null,
   "metadata": {},
   "outputs": [],
   "source": []
  }
 ],
 "metadata": {
  "kernelspec": {
   "display_name": "rnd-env",
   "language": "python",
   "name": "python3"
  },
  "language_info": {
   "codemirror_mode": {
    "name": "ipython",
    "version": 3
   },
   "file_extension": ".py",
   "mimetype": "text/x-python",
   "name": "python",
   "nbconvert_exporter": "python",
   "pygments_lexer": "ipython3",
   "version": "3.9.13"
  }
 },
 "nbformat": 4,
 "nbformat_minor": 2
}
